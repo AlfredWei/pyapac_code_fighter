{
 "cells": [
  {
   "cell_type": "code",
   "execution_count": 1,
   "metadata": {
    "collapsed": true
   },
   "outputs": [],
   "source": [
    "import ast\n",
    "import nose\n",
    "import sys\n",
    "from unittest.mock import patch\n",
    "from io import StringIO"
   ]
  },
  {
   "cell_type": "code",
   "execution_count": 2,
   "metadata": {
    "collapsed": true
   },
   "outputs": [],
   "source": [
    "q_pth = '../questions/q_foo.py'"
   ]
  },
  {
   "cell_type": "code",
   "execution_count": 3,
   "metadata": {
    "collapsed": false
   },
   "outputs": [],
   "source": [
    "with open(q_pth) as f:\n",
    "    full_text_code = f.read() "
   ]
  },
  {
   "cell_type": "code",
   "execution_count": 4,
   "metadata": {
    "collapsed": false
   },
   "outputs": [],
   "source": [
    "code_obj = compile(full_text_code, '<string>', 'exec')"
   ]
  },
  {
   "cell_type": "code",
   "execution_count": 5,
   "metadata": {
    "collapsed": false
   },
   "outputs": [],
   "source": [
    "exec(code_obj)"
   ]
  },
  {
   "cell_type": "code",
   "execution_count": 6,
   "metadata": {
    "collapsed": false
   },
   "outputs": [
    {
     "data": {
      "text/plain": [
       "True"
      ]
     },
     "execution_count": 6,
     "metadata": {},
     "output_type": "execute_result"
    }
   ],
   "source": [
    "answer('hi')"
   ]
  },
  {
   "cell_type": "code",
   "execution_count": 7,
   "metadata": {
    "collapsed": true
   },
   "outputs": [],
   "source": [
    "user_answer = '''\\\n",
    "def answer(*foos):\n",
    "    return all(f.startswith('foo') for f in foos)\n",
    "'''"
   ]
  },
  {
   "cell_type": "code",
   "execution_count": 8,
   "metadata": {
    "collapsed": true
   },
   "outputs": [],
   "source": [
    "class StdIOWarpper:\n",
    "    def __init__(self, buf):\n",
    "        print('init with %r' % buf)\n",
    "        self.buf = buf\n",
    "    \n",
    "    def __enter__(self):\n",
    "        self.orig_stdout = sys.stdout\n",
    "        self.orig_stderr = sys.stderr\n",
    "        sys.stdout = sys.stderr = self.buf\n",
    "\n",
    "    def __exit__(self, exc_type, exc_value, traceback):\n",
    "        sys.stdout = self.orig_stdout\n",
    "        sys.stderr = self.orig_stderr\n",
    "        print(exc_type, exc_value, traceback)\n",
    "        \n",
    "    @property\n",
    "    def captured(self):\n",
    "        return self.buf.getvalue()"
   ]
  },
  {
   "cell_type": "code",
   "execution_count": 9,
   "metadata": {
    "collapsed": false
   },
   "outputs": [
    {
     "name": "stdout",
     "output_type": "stream",
     "text": [
      "__main__.test_answer_foo ... ok\n",
      "__main__.test_answer_bar ... FAIL\n",
      "__main__.test_hidden_large_list_foos ... FAIL\n",
      "\n",
      "======================================================================\n",
      "FAIL: __main__.test_answer_bar\n",
      "----------------------------------------------------------------------\n",
      "Traceback (most recent call last):\n",
      "  File \"/Users/liang/.virtualenvs/pycode/lib/python3.4/site-packages/nose/case.py\", line 198, in runTest\n",
      "    self.test(*self.arg)\n",
      "  File \"<string>\", line 24, in test_answer_bar\n",
      "AssertionError\n",
      "\n",
      "======================================================================\n",
      "FAIL: __main__.test_hidden_large_list_foos\n",
      "----------------------------------------------------------------------\n",
      "Traceback (most recent call last):\n",
      "  File \"/Users/liang/.virtualenvs/pycode/lib/python3.4/site-packages/nose/case.py\", line 198, in runTest\n",
      "    self.test(*self.arg)\n",
      "  File \"<string>\", line 28, in test_hidden_large_list_foos\n",
      "AssertionError\n",
      "\n",
      "----------------------------------------------------------------------\n",
      "Ran 3 tests in 0.001s\n",
      "\n",
      "FAILED (failures=2)\n",
      "\n"
     ]
    }
   ],
   "source": [
    "with patch('sys.stderr', new_callable=StringIO) as p:\n",
    "    nose_config = nose.config.Config()\n",
    "    nose_config.verbosity = 2\n",
    "    nose.runmodule(argv=[''], exit=False, config=nose_config)\n",
    "    print(p.getvalue())"
   ]
  },
  {
   "cell_type": "code",
   "execution_count": 10,
   "metadata": {
    "collapsed": false
   },
   "outputs": [],
   "source": [
    "class EmbedTestProgram(nose.core.TestProgram):\n",
    "    def runTests(self):\n",
    "        \"\"\"Run Tests. Returns true on success, false on failure, and sets\n",
    "        self.success to the same value.\n",
    "        \"\"\"\n",
    "        if self.testRunner is None:\n",
    "            self.testRunner = nose.core.TextTestRunner(stream=self.config.stream,\n",
    "                                             verbosity=self.config.verbosity,\n",
    "                                             config=self.config)\n",
    "        plug_runner = self.config.plugins.prepareTestRunner(self.testRunner)\n",
    "        if plug_runner is not None:\n",
    "            self.testRunner = plug_runner\n",
    "        self.result = self.testRunner.run(self.test)\n",
    "        self.success = self.result.wasSuccessful()"
   ]
  },
  {
   "cell_type": "code",
   "execution_count": 11,
   "metadata": {
    "collapsed": false
   },
   "outputs": [],
   "source": [
    "def run_test():\n",
    "    buf = StringIO()\n",
    "    nose_config = nose.config.Config()\n",
    "    nose_config.verbosity = 2\n",
    "    nose_config.stream = buf\n",
    "    test_prog = EmbedTestProgram(defaultTest='__main__', argv=[''], exit=False, config=nose_config)\n",
    "    return test_prog, buf.getvalue()"
   ]
  },
  {
   "cell_type": "code",
   "execution_count": 12,
   "metadata": {
    "collapsed": false
   },
   "outputs": [
    {
     "data": {
      "text/plain": [
       "False"
      ]
     },
     "execution_count": 12,
     "metadata": {},
     "output_type": "execute_result"
    }
   ],
   "source": [
    "tp, test_output = run_test()\n",
    "tp.success"
   ]
  },
  {
   "cell_type": "code",
   "execution_count": 22,
   "metadata": {
    "collapsed": false
   },
   "outputs": [
    {
     "data": {
      "text/plain": [
       "[]"
      ]
     },
     "execution_count": 22,
     "metadata": {},
     "output_type": "execute_result"
    }
   ],
   "source": [
    "tp.result.errors"
   ]
  },
  {
   "cell_type": "code",
   "execution_count": 23,
   "metadata": {
    "collapsed": false
   },
   "outputs": [
    {
     "data": {
      "text/plain": [
       "[(Test(__main__.test_answer_bar),\n",
       "  'Traceback (most recent call last):\\n  File \"/Users/liang/.virtualenvs/pycode/lib/python3.4/site-packages/nose/case.py\", line 198, in runTest\\n    self.test(*self.arg)\\n  File \"<string>\", line 24, in test_answer_bar\\nAssertionError\\n'),\n",
       " (Test(__main__.test_hidden_large_list_foos),\n",
       "  'Traceback (most recent call last):\\n  File \"/Users/liang/.virtualenvs/pycode/lib/python3.4/site-packages/nose/case.py\", line 198, in runTest\\n    self.test(*self.arg)\\n  File \"<string>\", line 28, in test_hidden_large_list_foos\\nAssertionError\\n')]"
      ]
     },
     "execution_count": 23,
     "metadata": {},
     "output_type": "execute_result"
    }
   ],
   "source": [
    "tp.result.failures"
   ]
  },
  {
   "cell_type": "code",
   "execution_count": 44,
   "metadata": {
    "collapsed": false
   },
   "outputs": [
    {
     "data": {
      "text/plain": [
       "[]"
      ]
     },
     "execution_count": 44,
     "metadata": {},
     "output_type": "execute_result"
    }
   ],
   "source": [
    "tp.result.errors"
   ]
  },
  {
   "cell_type": "code",
   "execution_count": 13,
   "metadata": {
    "collapsed": false
   },
   "outputs": [],
   "source": [
    "t = tp.result.failures[0]"
   ]
  },
  {
   "cell_type": "code",
   "execution_count": 14,
   "metadata": {
    "collapsed": false
   },
   "outputs": [
    {
     "data": {
      "text/plain": [
       "(None, '__main__', 'test_answer_bar')"
      ]
     },
     "execution_count": 14,
     "metadata": {},
     "output_type": "execute_result"
    }
   ],
   "source": [
    "t[0].address()"
   ]
  },
  {
   "cell_type": "code",
   "execution_count": 21,
   "metadata": {
    "collapsed": false
   },
   "outputs": [
    {
     "name": "stdout",
     "output_type": "stream",
     "text": [
      "Traceback (most recent call last):\n",
      "  File \"/Users/liang/.virtualenvs/pycode/lib/python3.4/site-packages/nose/case.py\", line 198, in runTest\n",
      "    self.test(*self.arg)\n",
      "  File \"<string>\", line 24, in test_answer_bar\n",
      "AssertionError\n",
      "\n"
     ]
    }
   ],
   "source": [
    "print(t[1])"
   ]
  },
  {
   "cell_type": "code",
   "execution_count": 16,
   "metadata": {
    "collapsed": true
   },
   "outputs": [],
   "source": [
    "user_answer_code = compile(user_answer, '<string>', 'exec')"
   ]
  },
  {
   "cell_type": "code",
   "execution_count": 17,
   "metadata": {
    "collapsed": false
   },
   "outputs": [],
   "source": [
    "exec(user_answer_code)"
   ]
  },
  {
   "cell_type": "code",
   "execution_count": 19,
   "metadata": {
    "collapsed": false
   },
   "outputs": [
    {
     "data": {
      "text/plain": [
       "True"
      ]
     },
     "execution_count": 19,
     "metadata": {},
     "output_type": "execute_result"
    }
   ],
   "source": [
    "tp, test_output = run_test()\n",
    "tp.success"
   ]
  },
  {
   "cell_type": "code",
   "execution_count": null,
   "metadata": {
    "collapsed": true
   },
   "outputs": [],
   "source": []
  }
 ],
 "metadata": {
  "kernelspec": {
   "display_name": "Python 3",
   "language": "python",
   "name": "python3"
  },
  "language_info": {
   "codemirror_mode": {
    "name": "ipython",
    "version": 3
   },
   "file_extension": ".py",
   "mimetype": "text/x-python",
   "name": "python",
   "nbconvert_exporter": "python",
   "pygments_lexer": "ipython3",
   "version": "3.4.3"
  }
 },
 "nbformat": 4,
 "nbformat_minor": 0
}
